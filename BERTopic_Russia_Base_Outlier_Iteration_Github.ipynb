{
 "cells": [
  {
   "cell_type": "code",
   "execution_count": null,
   "id": "d83afc30-2831-43d5-9ef9-722acaf1828e",
   "metadata": {},
   "outputs": [],
   "source": [
    "from bertopic import BERTopic\n",
    "import pandas as pd\n",
    "import csv\n",
    "import re\n",
    "import string\n",
    "import datetime\n",
    "import scipy\n",
    "import numpy\n",
    "from scipy import sparse\n",
    "import sys   \n",
    "import unicodedata\n",
    "import nltk \n",
    "import numpy as np   \n",
    "import hdbscan\n",
    "import time     \n",
    "from scipy.sparse import csr_matrix, csc_matrix \n",
    "from umap import UMAP\n",
    "from IPython.display import clear_output"
   ]
  },
  {
   "cell_type": "code",
   "execution_count": null,
   "id": "6f71d54d-a28f-4a0e-8ee7-551426e4e808",
   "metadata": {},
   "outputs": [],
   "source": [
    "from flair.embeddings import TransformerDocumentEmbeddings\n",
    "roberta = TransformerDocumentEmbeddings('roberta-base')"
   ]
  },
  {
   "cell_type": "code",
   "execution_count": null,
   "id": "b57c2f34-16c5-4ed7-8bf9-4c92947ed4cf",
   "metadata": {},
   "outputs": [],
   "source": [
    "def text_clean(x):\n",
    "\n",
    "    ### Light\n",
    "    x = x.lower() # lowercase everything\n",
    "    x = x.encode('ascii', 'ignore').decode()  # remove unicode characters\n",
    "    x = re.sub(r'https*\\S+', ' ', x) # remove links\n",
    "    x = re.sub(r'http*\\S+', ' ', x)\n",
    "    # cleaning up text\n",
    "    x = re.sub(r'\\'\\w+', '', x) \n",
    "    x = re.sub(r'\\w*\\d+\\w*', '', x)\n",
    "    x = re.sub(r'\\s{2,}', ' ', x)\n",
    "    x = re.sub(r'\\s[^\\w\\s]\\s', '', x)\n",
    "    \n",
    "    ### Heavy\n",
    "    x = re.sub(r'@\\S', '', x)\n",
    "    x = re.sub(r'#\\S+', ' ', x)\n",
    "    x = re.sub('[%s]' % re.escape(string.punctuation), ' ', x)\n",
    "    # remove single letters and numbers surrounded by space\n",
    "    x = re.sub(r'\\s[a-z]\\s|\\s[0-9]\\s', ' ', x)\n",
    "\n",
    "    return x"
   ]
  },
  {
   "cell_type": "code",
   "execution_count": null,
   "id": "38124721-a282-4ca0-b84b-af6e7d4e5662",
   "metadata": {},
   "outputs": [],
   "source": [
    "train = pd.read_csv('bert_russia_train_062222.csv', encoding = \"ISO-8859-1\", engine='python')\n",
    "train.dropna(subset=['text'])\n",
    "nan_value = float(\"NaN\")\n",
    "train.replace(\"\", nan_value, inplace=True)\n",
    "train.dropna(subset = [\"text\"], inplace=True)\n",
    "train.replace(\" \", nan_value, inplace=True)\n",
    "train.dropna(subset = [\"text\"], inplace=True)\n",
    "train.drop(columns=['Unnamed: 0', 'index'], axis=1, inplace=True)\n",
    "train.info()\n",
    "train.head()"
   ]
  },
  {
   "cell_type": "code",
   "execution_count": null,
   "id": "d064658a-cfe8-48f8-b0e7-3f27fd184997",
   "metadata": {},
   "outputs": [],
   "source": [
    "#trainsample = train.sample(frac=0.01, replace=True, random_state=1)\n",
    "#nan_value = float(\"NaN\")\n",
    "#trainsample.replace(\" \", nan_value, inplace=True)\n",
    "#trainsample.dropna(subset = [\"text\"], inplace=True)\n",
    "#trainsample.info()\n",
    "#trainsample.head()"
   ]
  },
  {
   "cell_type": "code",
   "execution_count": null,
   "id": "124264c3-e7f3-439f-8317-b8f88019a125",
   "metadata": {},
   "outputs": [],
   "source": [
    "train['cleaned_text'] = train.text.apply(text_clean)\n",
    "traintext = train.cleaned_text.to_list()"
   ]
  },
  {
   "cell_type": "code",
   "execution_count": null,
   "id": "97512783-24e5-4c2a-a3ed-7bbb6d44b06b",
   "metadata": {},
   "outputs": [],
   "source": [
    "start_time = time.time()\n",
    "umap_model = UMAP(n_neighbors=15, n_components=5, \n",
    "                  min_dist=0.0, metric='cosine', random_state=42) # to fix the bertopic for replication\n",
    "topic_model = BERTopic(umap_model=umap_model, embedding_model=roberta, nr_topics=\"auto\", calculate_probabilities = True).fit(traintext)\n",
    "print(\"--- %s seconds ---\" % (time.time() - start_time))"
   ]
  },
  {
   "cell_type": "code",
   "execution_count": null,
   "id": "620d31c8-106d-4d2f-abf6-54503f9a1ed3",
   "metadata": {},
   "outputs": [],
   "source": [
    "start_time = time.time()\n",
    "probs = hdbscan.all_points_membership_vectors(topic_model.hdbscan_model)\n",
    "probs = topic_model._map_probabilities(probs, original_topics=True)\n",
    "topics, probs = topic_model.fit_transform(traintext)\n",
    "df = pd.DataFrame(probs)\n",
    "topic_model.save(\"Bert_Model_Outputs/modelrussiaroberta_v1_091322\") \n",
    "print(\"--- %s seconds ---\" % (time.time() - start_time))"
   ]
  },
  {
   "cell_type": "code",
   "execution_count": null,
   "id": "bed062ae-cbbf-47fc-8699-98adf180b80b",
   "metadata": {},
   "outputs": [],
   "source": [
    "df.to_csv(\"russia_state_ukr_topics_roberta_probs_091322.csv\")"
   ]
  },
  {
   "cell_type": "code",
   "execution_count": null,
   "id": "2b4f8565-7eb5-48dc-a1fe-57936126bc92",
   "metadata": {},
   "outputs": [],
   "source": [
    "docs = topic_model.get_representative_docs()\n",
    "freq = topic_model.get_topic_info()\n",
    "doc_panda = pd.DataFrame(list(docs.items()),columns = ['Topic','Docs']) "
   ]
  },
  {
   "cell_type": "code",
   "execution_count": null,
   "id": "ce32ba9b-7084-4175-9033-85439e0c0e6d",
   "metadata": {},
   "outputs": [],
   "source": [
    "freq.to_csv(\"russia_state_ukr_topics_roberta_v1_091322.csv\")\n",
    "doc_panda.to_csv(\"russia_state_ukr_topics_roberta_representative_docs_v1_091322.csv\")"
   ]
  },
  {
   "cell_type": "code",
   "execution_count": null,
   "id": "d07e2273-5e71-4eff-86f5-130e082c79bc",
   "metadata": {},
   "outputs": [],
   "source": [
    "freq"
   ]
  },
  {
   "cell_type": "code",
   "execution_count": null,
   "id": "b4815af7-b311-4eb7-8e67-f5d1946bdc1e",
   "metadata": {},
   "outputs": [],
   "source": [
    "topics, probs = topic_model.fit_transform(traintext)\n",
    "df_topics = pd.DataFrame({'topic': topics, 'document': traintext})\n",
    "df_topics.info()\n",
    "df_topics.to_csv(\"russia_state_ukr_doc_topics_v1_091322.csv\")"
   ]
  },
  {
   "cell_type": "code",
   "execution_count": null,
   "id": "55d1c2a8-cd15-4be4-9f7c-96f38066d604",
   "metadata": {},
   "outputs": [],
   "source": [
    "len(df_topics['topic'].unique().tolist())"
   ]
  },
  {
   "cell_type": "code",
   "execution_count": null,
   "id": "5d3036d7-8c52-4780-95b8-b7c5be432311",
   "metadata": {},
   "outputs": [],
   "source": [
    "df_topics['topiclabel'] = df_topics['topic'] \n",
    "df_topics.info()"
   ]
  },
  {
   "cell_type": "code",
   "execution_count": null,
   "id": "d23f3aca-abd8-4518-8218-25e7563442ff",
   "metadata": {},
   "outputs": [],
   "source": [
    "dict1=freq.set_index('Topic').to_dict()['Name']\n",
    "df_topics=df_topics.replace({\"topiclabel\": dict1})\n",
    "df_topics = df_topics[['topic', 'topiclabel', 'document']]\n",
    "df_topics.head()"
   ]
  },
  {
   "cell_type": "code",
   "execution_count": null,
   "id": "236cc9ad-78c6-4240-8912-3262239a83f9",
   "metadata": {},
   "outputs": [],
   "source": [
    "df_topics.to_csv(\"russia_state_ukr_doc_topics_v1_091322.csv\")"
   ]
  },
  {
   "cell_type": "code",
   "execution_count": null,
   "id": "8f2a8ab2-9e5a-429a-a75a-5523d2a6ab50",
   "metadata": {},
   "outputs": [],
   "source": [
    "df_topics_outlier = df_topics[df_topics.topic == -1]\n",
    "df_topics_outlier.info()\n",
    "len(df_topics_outlier)"
   ]
  },
  {
   "cell_type": "code",
   "execution_count": null,
   "id": "c3306fa7-7384-4dc8-a206-804ef1a1f971",
   "metadata": {},
   "outputs": [],
   "source": [
    "df_topics_outlier.to_csv(\"russia_state_ukr_outliers_v2_091322.csv\")"
   ]
  },
  {
   "cell_type": "code",
   "execution_count": null,
   "id": "cf1e82cb-6d22-4b62-9a05-3dc370ffe035",
   "metadata": {},
   "outputs": [],
   "source": [
    "#clear output"
   ]
  },
  {
   "cell_type": "code",
   "execution_count": null,
   "id": "1be399e6-c885-4bdc-912c-fcdec96cea4d",
   "metadata": {},
   "outputs": [],
   "source": [
    "df_topics_outlier=pd.read_csv('russia_state_ukr_outliers_v2_091322.csv')\n",
    "df_topics_outlier.dropna(subset=['document'])\n",
    "nan_value = float(\"NaN\")\n",
    "df_topics_outlier.replace(\"\", nan_value, inplace=True)\n",
    "df_topics_outlier.dropna(subset = [\"document\"], inplace=True)\n",
    "df_topics_outlier.replace(\" \", nan_value, inplace=True)\n",
    "df_topics_outlier.dropna(subset = [\"document\"], inplace=True)\n",
    "df_topics_outlier.info()\n",
    "df_topics_outlier.head()"
   ]
  },
  {
   "cell_type": "code",
   "execution_count": null,
   "id": "6ba5e815-f78f-4fc8-bec2-0d0037a2603e",
   "metadata": {},
   "outputs": [],
   "source": [
    "df_topics_outlier['cleaned_text'] = df_topics_outlier.document.apply(text_clean)\n",
    "df_topics_outlier_text = df_topics_outlier.cleaned_text.to_list()\n",
    "len(df_topics_outlier_text)"
   ]
  },
  {
   "cell_type": "code",
   "execution_count": null,
   "id": "56a492ab-c1bb-489d-a7a8-4b938d9fb7e7",
   "metadata": {},
   "outputs": [],
   "source": [
    "start_time = time.time()\n",
    "umap_model = UMAP(n_neighbors=15, n_components=5, \n",
    "                  min_dist=0.0, metric='cosine', random_state=42)\n",
    "topic_model2 = BERTopic(umap_model=umap_model, embedding_model=roberta, nr_topics=\"auto\", calculate_probabilities = True).fit(df_topics_outlier_text)\n",
    "print(\"--- %s seconds ---\" % (time.time() - start_time))"
   ]
  },
  {
   "cell_type": "code",
   "execution_count": null,
   "id": "c4a065a9-24bd-4103-9fd6-84e19bbb4d47",
   "metadata": {},
   "outputs": [],
   "source": [
    "start_time = time.time()\n",
    "probs2 = hdbscan.all_points_membership_vectors(topic_model2.hdbscan_model)\n",
    "probs2 = topic_model2._map_probabilities(probs2, original_topics=True)\n",
    "topics, probs = topic_model2.fit_transform(df_topics_outlier_text)\n",
    "df2 = pd.DataFrame(probs2)\n",
    "topic_model2.save(\"Bert_Model_Outputs/modelrussiaroberta_v2_091322\") \n",
    "print(\"--- %s seconds ---\" % (time.time() - start_time))"
   ]
  },
  {
   "cell_type": "code",
   "execution_count": null,
   "id": "39cd8b3d-4ca7-47a9-a9d7-54a334505996",
   "metadata": {},
   "outputs": [],
   "source": [
    "df2.to_csv(\"russia_state_ukr_topics_roberta_probs_v2_091322.csv\")"
   ]
  },
  {
   "cell_type": "code",
   "execution_count": null,
   "id": "22dfc20f-b2d4-44b8-9841-c6de2e2fc861",
   "metadata": {},
   "outputs": [],
   "source": [
    "docs2 = topic_model2.get_representative_docs()\n",
    "freq2 = topic_model2.get_topic_info()\n",
    "doc_panda2 = pd.DataFrame(list(docs2.items()),columns = ['Topic','Docs']) "
   ]
  },
  {
   "cell_type": "code",
   "execution_count": null,
   "id": "72b6f600-9de0-4637-a0f1-5edf98a92341",
   "metadata": {},
   "outputs": [],
   "source": [
    "freq2.to_csv(\"russia_state_ukr_topics_roberta_v2_091322.csv\")\n",
    "doc_panda2.to_csv(\"russia_state_ukr_topics_roberta_representative_docs_v2_091322.csv\")"
   ]
  },
  {
   "cell_type": "code",
   "execution_count": null,
   "id": "18587181-d086-487f-8c9d-a735d0cd603b",
   "metadata": {},
   "outputs": [],
   "source": [
    "freq2"
   ]
  },
  {
   "cell_type": "code",
   "execution_count": null,
   "id": "b01c504c-37b7-4277-a70a-e181fb041c97",
   "metadata": {},
   "outputs": [],
   "source": [
    "df_topics2 = pd.DataFrame({'topic': topics, 'document': df_topics_outlier_text})\n",
    "df_topics2.to_csv(\"russia_state_ukr_doc_topics_v2_091322.csv\")"
   ]
  },
  {
   "cell_type": "code",
   "execution_count": null,
   "id": "a5210123-5dc0-42e6-b405-73804848621f",
   "metadata": {},
   "outputs": [],
   "source": [
    "len(df_topics2['topic'].unique().tolist())"
   ]
  },
  {
   "cell_type": "code",
   "execution_count": null,
   "id": "23d6c45a-2005-4924-802a-b55773482aa5",
   "metadata": {},
   "outputs": [],
   "source": [
    "df_topics2['topiclabel'] = df_topics2['topic'] \n",
    "df_topics2.head()"
   ]
  },
  {
   "cell_type": "code",
   "execution_count": null,
   "id": "1d19d05d-9370-4e0f-b15e-c67126af2081",
   "metadata": {},
   "outputs": [],
   "source": [
    "dict2=freq2.set_index('Topic').to_dict()['Name']\n",
    "df_topics2=df_topics2.replace({\"topiclabel\": dict2})\n",
    "df_topics2 = df_topics2[['topic', 'topiclabel', 'document']]\n",
    "df_topics2.head()"
   ]
  },
  {
   "cell_type": "code",
   "execution_count": null,
   "id": "e68fdf58-2b7e-4baf-a9c7-b5f9488850b6",
   "metadata": {},
   "outputs": [],
   "source": [
    "df_topics2.to_csv(\"russia_state_ukr_doc_topics_v2_091322.csv\")"
   ]
  },
  {
   "cell_type": "code",
   "execution_count": null,
   "id": "ff0de74a-879a-4ee1-af8a-c7ff42e42e8d",
   "metadata": {},
   "outputs": [],
   "source": [
    "df_topics_outlier2 = df_topics2[df_topics2.topic == -1]\n",
    "df_topics_outlier2.info()"
   ]
  },
  {
   "cell_type": "code",
   "execution_count": null,
   "id": "1435ccfa-bc9d-4a9f-a938-651a07b26593",
   "metadata": {},
   "outputs": [],
   "source": [
    "df_topics_outlier2.to_csv(\"russia_state_ukr_outliers_v3_091322.csv\")"
   ]
  },
  {
   "cell_type": "code",
   "execution_count": null,
   "id": "9d65c61e-2546-4291-8066-580de29be696",
   "metadata": {},
   "outputs": [],
   "source": [
    "# clean output"
   ]
  },
  {
   "cell_type": "code",
   "execution_count": null,
   "id": "7cf9d398-d268-4c4c-b834-4a21f1699aac",
   "metadata": {},
   "outputs": [],
   "source": [
    "df_topics_outlier2=pd.read_csv('russia_state_ukr_outliers_v3_091322.csv')\n",
    "df_topics_outlier2.dropna(subset=['document'])\n",
    "nan_value = float(\"NaN\")\n",
    "df_topics_outlier2.replace(\"\", nan_value, inplace=True)\n",
    "df_topics_outlier2.dropna(subset = [\"document\"], inplace=True)\n",
    "df_topics_outlier2.replace(\" \", nan_value, inplace=True)\n",
    "df_topics_outlier2.dropna(subset = [\"document\"], inplace=True)\n",
    "df_topics_outlier2.info()\n",
    "df_topics_outlier2.head()"
   ]
  },
  {
   "cell_type": "code",
   "execution_count": null,
   "id": "d5679f99-bf74-46e0-b2c7-25092c6b89ef",
   "metadata": {},
   "outputs": [],
   "source": [
    "df_topics_outlier2['cleaned_text'] = df_topics_outlier2.document.apply(text_clean)"
   ]
  },
  {
   "cell_type": "code",
   "execution_count": null,
   "id": "4f4e7a0b-d7a0-42bc-abd2-5b1cdb553393",
   "metadata": {},
   "outputs": [],
   "source": [
    "df_topics_outlier2 = df_topics_outlier2.cleaned_text.to_list()"
   ]
  },
  {
   "cell_type": "code",
   "execution_count": null,
   "id": "3c9c8cd1-1d35-4914-8664-87272a29c3cb",
   "metadata": {},
   "outputs": [],
   "source": [
    "len(df_topics_outlier2)"
   ]
  },
  {
   "cell_type": "code",
   "execution_count": null,
   "id": "afc08d25-8fbf-48ea-9279-c69bd7c11017",
   "metadata": {},
   "outputs": [],
   "source": [
    "start_time = time.time()\n",
    "umap_model = UMAP(n_neighbors=15, n_components=5, \n",
    "                  min_dist=0.0, metric='cosine', random_state=42)\n",
    "topic_model3 = BERTopic(umap_model=umap_model, embedding_model=roberta, nr_topics=\"auto\", calculate_probabilities = True).fit(df_topics_outlier2)\n",
    "topic_model3.save(\"Bert_Model_Outputs/modelrussiaroberta_v3_091322\") \n",
    "print(\"--- %s seconds ---\" % (time.time() - start_time))"
   ]
  },
  {
   "cell_type": "code",
   "execution_count": null,
   "id": "2afdf941-2ac9-4bdc-b288-2f5bdadfe7a6",
   "metadata": {},
   "outputs": [],
   "source": [
    "start_time = time.time()\n",
    "probs3 = hdbscan.all_points_membership_vectors(topic_model3.hdbscan_model)\n",
    "probs3 = topic_model3._map_probabilities(probs3, original_topics=True)\n",
    "topics, probs = topic_model3.fit_transform(df_topics_outlier2)\n",
    "df3 = pd.DataFrame(probs3)"
   ]
  },
  {
   "cell_type": "code",
   "execution_count": null,
   "id": "3a160e08-8697-498b-9cc6-a0e4f31ec768",
   "metadata": {},
   "outputs": [],
   "source": [
    "df3.to_csv(\"russia_state_ukr_topics_roberta_probs_v3_091322.csv\")"
   ]
  },
  {
   "cell_type": "code",
   "execution_count": null,
   "id": "fbc98181-0a8b-44fb-99ee-fa16b205c957",
   "metadata": {},
   "outputs": [],
   "source": [
    "docs3 = topic_model3.get_representative_docs()\n",
    "freq3 = topic_model3.get_topic_info()\n",
    "doc_panda3 = pd.DataFrame(list(docs3.items()),columns = ['Topic','Docs']) "
   ]
  },
  {
   "cell_type": "code",
   "execution_count": null,
   "id": "e8975ac0-9dde-47c2-b6e7-ce3e3dd564d7",
   "metadata": {},
   "outputs": [],
   "source": [
    "freq3.to_csv(\"russia_state_ukr_topics_roberta_v3_091322.csv\")\n",
    "doc_panda3.to_csv(\"russia_state_ukr_topics_roberta_representative_docs_v3_091322.csv\")"
   ]
  },
  {
   "cell_type": "code",
   "execution_count": null,
   "id": "4a2e5aaf-d258-47fe-a208-47dcabd72274",
   "metadata": {},
   "outputs": [],
   "source": [
    "freq3"
   ]
  },
  {
   "cell_type": "code",
   "execution_count": null,
   "id": "ab32070b-6cbf-4b5a-b4c6-e89368729ca7",
   "metadata": {},
   "outputs": [],
   "source": [
    "df_topics3 = pd.DataFrame({'topic': topics, 'document': df_topics_outlier2})\n",
    "df_topics3.to_csv(\"russia_state_ukr_doc_topics_v3_091322.csv\")"
   ]
  },
  {
   "cell_type": "code",
   "execution_count": null,
   "id": "9dab6c16-e790-46b2-81f2-b2ed6b5fd64e",
   "metadata": {},
   "outputs": [],
   "source": [
    "len(df_topics3['topic'].unique().tolist())"
   ]
  },
  {
   "cell_type": "code",
   "execution_count": null,
   "id": "5fbb4742-495e-41bc-aae7-853969f038ac",
   "metadata": {},
   "outputs": [],
   "source": [
    "df_topics3['topiclabel'] = df_topics3['topic'] \n",
    "df_topics3.head()"
   ]
  },
  {
   "cell_type": "code",
   "execution_count": null,
   "id": "bc7820a7-192f-4e9b-823a-f20c973d452c",
   "metadata": {},
   "outputs": [],
   "source": [
    "dict3=freq3.set_index('Topic').to_dict()['Name']\n",
    "df_topics3=df_topics3.replace({\"topiclabel\": dict3})\n",
    "df_topics3 = df_topics3[['topic', 'topiclabel', 'document']]\n",
    "df_topics3.head()"
   ]
  },
  {
   "cell_type": "code",
   "execution_count": null,
   "id": "efb08468-ff99-49f7-8d65-efd80a9be216",
   "metadata": {},
   "outputs": [],
   "source": [
    "df_topics3.to_csv(\"russia_state_ukr_doc_topics_v3_091322.csv\")"
   ]
  },
  {
   "cell_type": "code",
   "execution_count": null,
   "id": "a4d53958-ea55-4460-9223-f46dc0659f1d",
   "metadata": {},
   "outputs": [],
   "source": [
    "df_topics_outlier3 = df_topics3[df_topics3.topic == -1]\n",
    "df_topics_outlier3.head()"
   ]
  },
  {
   "cell_type": "code",
   "execution_count": null,
   "id": "de3016b4-7363-47eb-84e2-a03848126ac3",
   "metadata": {},
   "outputs": [],
   "source": [
    "df_topics_outlier3.to_csv(\"russia_state_ukr_outliers_v4_091322.csv\")"
   ]
  },
  {
   "cell_type": "code",
   "execution_count": null,
   "id": "83adccf4-30ec-4114-a775-00dd8bc07318",
   "metadata": {},
   "outputs": [],
   "source": [
    "# clear output"
   ]
  },
  {
   "cell_type": "code",
   "execution_count": null,
   "id": "5a74819c-9479-4506-a959-3f807f803e64",
   "metadata": {},
   "outputs": [],
   "source": [
    "df_topics_outlier3=pd.read_csv('russia_state_ukr_outliers_v4_091322.csv')\n",
    "df_topics_outlier3.dropna(subset=['document'])\n",
    "nan_value = float(\"NaN\")\n",
    "df_topics_outlier3.replace(\"\", nan_value, inplace=True)\n",
    "df_topics_outlier3.dropna(subset = [\"document\"], inplace=True)\n",
    "df_topics_outlier3.replace(\" \", nan_value, inplace=True)\n",
    "df_topics_outlier3.dropna(subset = [\"document\"], inplace=True)\n",
    "df_topics_outlier3.info()\n",
    "df_topics_outlier3.head()"
   ]
  },
  {
   "cell_type": "code",
   "execution_count": null,
   "id": "150cc75a-a130-4d25-b40a-e91763b6d24e",
   "metadata": {},
   "outputs": [],
   "source": [
    "df_topics_outlier3['cleaned_text'] = df_topics_outlier3.document.apply(text_clean)\n",
    "df_topics_outlier3 = df_topics_outlier3.cleaned_text.to_list()\n",
    "len(df_topics_outlier3)"
   ]
  },
  {
   "cell_type": "code",
   "execution_count": null,
   "id": "6ba5180e-2cf8-4cca-a00f-afc26d99ad29",
   "metadata": {},
   "outputs": [],
   "source": [
    "start_time = time.time()\n",
    "umap_model = UMAP(n_neighbors=15, n_components=5, \n",
    "                  min_dist=0.0, metric='cosine', random_state=42)\n",
    "topic_model4 = BERTopic(umap_model=umap_model, embedding_model=roberta, nr_topics=\"auto\", calculate_probabilities = True).fit(df_topics_outlier3)\n",
    "topic_model4.save(\"Bert_Model_Outputs/modelrussiaroberta_v4_091322\") \n",
    "print(\"--- %s seconds ---\" % (time.time() - start_time))\n",
    "start_time = time.time()\n",
    "probs4 = hdbscan.all_points_membership_vectors(topic_model4.hdbscan_model)\n",
    "probs4 = topic_model4._map_probabilities(probs4, original_topics=True)\n",
    "topics, probs = topic_model4.fit_transform(df_topics_outlier3)\n",
    "df4 = pd.DataFrame(probs4)\n",
    "df4.to_csv(\"russia_state_ukr_topics_roberta_probs_v4_091322.csv\")"
   ]
  },
  {
   "cell_type": "code",
   "execution_count": null,
   "id": "b92f46b8-9594-4a6b-bfc2-093312a5ecdc",
   "metadata": {},
   "outputs": [],
   "source": [
    "docs4 = topic_model4.get_representative_docs()\n",
    "freq4 = topic_model4.get_topic_info()\n",
    "doc_panda4 = pd.DataFrame(list(docs4.items()),columns = ['Topic','Docs']) \n",
    "freq4.to_csv(\"russia_state_ukr_topics_roberta_v4_091322.csv\")\n",
    "doc_panda4.to_csv(\"russia_state_ukr_topics_roberta_representative_docs_v4_091322.csv\")"
   ]
  },
  {
   "cell_type": "code",
   "execution_count": null,
   "id": "ac104176-fe39-4855-978d-bb925a36e792",
   "metadata": {},
   "outputs": [],
   "source": [
    "freq4"
   ]
  },
  {
   "cell_type": "code",
   "execution_count": null,
   "id": "13862518-8ea5-4744-a28f-7d256f3d1f73",
   "metadata": {},
   "outputs": [],
   "source": [
    "df_topics4 = pd.DataFrame({'topic': topics, 'document': df_topics_outlier3})\n",
    "df_topics4.to_csv(\"russia_state_ukr_doc_topics_v4_091322.csv\")"
   ]
  },
  {
   "cell_type": "code",
   "execution_count": null,
   "id": "8e4dcbf3-c1b2-4875-aa13-7808b49b1e01",
   "metadata": {},
   "outputs": [],
   "source": [
    "len(df_topics4['topic'].unique().tolist())"
   ]
  },
  {
   "cell_type": "code",
   "execution_count": null,
   "id": "a5331efd-1498-4915-92c9-915a421ae762",
   "metadata": {},
   "outputs": [],
   "source": [
    "df_topics4['topiclabel'] = df_topics4['topic'] \n",
    "df_topics4.head()"
   ]
  },
  {
   "cell_type": "code",
   "execution_count": null,
   "id": "015f503a-5784-403c-908b-c8f78c85c1e8",
   "metadata": {},
   "outputs": [],
   "source": [
    "dict4=freq4.set_index('Topic').to_dict()['Name']\n",
    "df_topics4=df_topics4.replace({\"topiclabel\": dict4})\n",
    "df_topics4 = df_topics4[['topic', 'topiclabel', 'document']]\n",
    "df_topics4.head()"
   ]
  },
  {
   "cell_type": "code",
   "execution_count": null,
   "id": "aba43463-33ea-4db9-8781-4b69d94f41f1",
   "metadata": {},
   "outputs": [],
   "source": [
    "df_topics4.to_csv(\"russia_state_ukr_doc_topics_v4_091322.csv\")"
   ]
  },
  {
   "cell_type": "code",
   "execution_count": null,
   "id": "97ddea13-b48c-4e0d-99d5-e53caa1d908b",
   "metadata": {},
   "outputs": [],
   "source": [
    "df_topics_outlier4 = df_topics4[df_topics4.topic == -1]\n",
    "df_topics_outlier4.head()"
   ]
  },
  {
   "cell_type": "code",
   "execution_count": null,
   "id": "cf5f640a-f7d3-4ed9-9b70-3175fd6848c8",
   "metadata": {},
   "outputs": [],
   "source": [
    "df_topics_outlier4.to_csv(\"russia_state_ukr_outliers_v5_091322.csv\")"
   ]
  },
  {
   "cell_type": "code",
   "execution_count": null,
   "id": "39cce457-5cf1-4492-ba45-eff7a1c7cba6",
   "metadata": {},
   "outputs": [],
   "source": [
    "# clear outputs"
   ]
  },
  {
   "cell_type": "code",
   "execution_count": null,
   "id": "5ec3feb5-f2f1-46a3-933f-98d9659a998d",
   "metadata": {},
   "outputs": [],
   "source": [
    "df_topics_outlier4=pd.read_csv('russia_state_ukr_outliers_v5_091322.csv')\n",
    "df_topics_outlier4.dropna(subset=['document'])\n",
    "nan_value = float(\"NaN\")\n",
    "df_topics_outlier4.replace(\"\", nan_value, inplace=True)\n",
    "df_topics_outlier4.dropna(subset = [\"document\"], inplace=True)\n",
    "df_topics_outlier4.replace(\" \", nan_value, inplace=True)\n",
    "df_topics_outlier4.dropna(subset = [\"document\"], inplace=True)\n",
    "df_topics_outlier4.info()\n",
    "df_topics_outlier4.head()"
   ]
  },
  {
   "cell_type": "code",
   "execution_count": null,
   "id": "1d63e753-aabd-4f77-8d5f-95d4fb9d476f",
   "metadata": {},
   "outputs": [],
   "source": [
    "df_topics_outlier4['cleaned_text'] = df_topics_outlier4.document.apply(text_clean)\n",
    "df_topics_outlier4 = df_topics_outlier4.cleaned_text.to_list()\n",
    "len(df_topics_outlier4)"
   ]
  },
  {
   "cell_type": "code",
   "execution_count": null,
   "id": "827fb6ef-a222-45bc-a656-9e3e78e4f5de",
   "metadata": {},
   "outputs": [],
   "source": [
    "start_time = time.time()\n",
    "umap_model = UMAP(n_neighbors=15, n_components=5, \n",
    "                  min_dist=0.0, metric='cosine', random_state=42)\n",
    "topic_model5 = BERTopic(umap_model=umap_model, embedding_model=roberta, nr_topics=\"auto\", calculate_probabilities = True).fit(df_topics_outlier4)\n",
    "topic_model5.save(\"Bert_Model_Outputs/modelrussiaroberta_v5_091322\") \n",
    "print(\"--- %s seconds ---\" % (time.time() - start_time))\n",
    "start_time = time.time()\n",
    "probs5 = hdbscan.all_points_membership_vectors(topic_model5.hdbscan_model)\n",
    "probs5 = topic_model5._map_probabilities(probs5, original_topics=True)\n",
    "topics, probs = topic_model5.fit_transform(df_topics_outlier4)\n",
    "df5 = pd.DataFrame(probs5)\n",
    "df5.to_csv(\"russia_state_ukr_topics_roberta_probs_v5_091322.csv\")"
   ]
  },
  {
   "cell_type": "code",
   "execution_count": null,
   "id": "e847b473-b668-4b47-a8f2-d7330ac4aac1",
   "metadata": {},
   "outputs": [],
   "source": [
    "docs5 = topic_model5.get_representative_docs()\n",
    "freq5 = topic_model5.get_topic_info()\n",
    "doc_panda5 = pd.DataFrame(list(docs5.items()),columns = ['Topic','Docs']) \n",
    "freq5.to_csv(\"russia_state_ukr_topics_roberta_v5_091322.csv\")\n",
    "doc_panda5.to_csv(\"russia_state_ukr_topics_roberta_representative_docs_v5_091322.csv\")"
   ]
  },
  {
   "cell_type": "code",
   "execution_count": null,
   "id": "53330992-d2b3-4031-a5e1-82c589b12a89",
   "metadata": {},
   "outputs": [],
   "source": [
    "freq5"
   ]
  },
  {
   "cell_type": "code",
   "execution_count": null,
   "id": "1b529b34-74a3-4215-8cd2-b669c43b9bb8",
   "metadata": {},
   "outputs": [],
   "source": [
    "df_topics5 = pd.DataFrame({'topic': topics, 'document': df_topics_outlier4})\n",
    "df_topics5.to_csv(\" russia_state_ukr_doc_topics_v5_091322.csv\")"
   ]
  },
  {
   "cell_type": "code",
   "execution_count": null,
   "id": "21bdd19f-60b4-463e-9b7f-acd4fd139078",
   "metadata": {},
   "outputs": [],
   "source": [
    "len(df_topics5['topic'].unique().tolist())"
   ]
  },
  {
   "cell_type": "code",
   "execution_count": null,
   "id": "1ee6d55b-8d5c-4650-bcdb-7e4350609014",
   "metadata": {},
   "outputs": [],
   "source": [
    "df_topics5['topiclabel'] = df_topics5['topic'] \n",
    "df_topics5.head()"
   ]
  },
  {
   "cell_type": "code",
   "execution_count": null,
   "id": "f82284e6-63e9-4c61-8b2a-c39aeb3a433d",
   "metadata": {},
   "outputs": [],
   "source": [
    "dict5=freq5.set_index('Topic').to_dict()['Name']\n",
    "df_topics5=df_topics5.replace({\"topiclabel\": dict5})\n",
    "df_topics5 = df_topics5[['topic', 'topiclabel', 'document']]\n",
    "df_topics5.head()"
   ]
  },
  {
   "cell_type": "code",
   "execution_count": null,
   "id": "87ff5ebf-146f-4005-ae3d-b181cc2206d3",
   "metadata": {},
   "outputs": [],
   "source": [
    "df_topics5.to_csv(\"russia_state_ukr_doc_topics_v5_091322.csv\")"
   ]
  },
  {
   "cell_type": "code",
   "execution_count": null,
   "id": "5dd1c8c7-1d3c-4f7a-80b2-1c78e785a650",
   "metadata": {},
   "outputs": [],
   "source": [
    "df_topics_outlier5 = df_topics5[df_topics5.topic == -1]\n",
    "df_topics_outlier5.head()"
   ]
  },
  {
   "cell_type": "code",
   "execution_count": null,
   "id": "b20f9a61-3fb6-4b52-8c9c-79be9495fd43",
   "metadata": {},
   "outputs": [],
   "source": [
    "df_topics_outlier5.to_csv(\"russia_state_ukr_outliers_v6_091322.csv\")"
   ]
  },
  {
   "cell_type": "code",
   "execution_count": null,
   "id": "fe29e98a-0d81-46e7-b25f-401355f4ec16",
   "metadata": {},
   "outputs": [],
   "source": [
    "# clear output"
   ]
  },
  {
   "cell_type": "code",
   "execution_count": null,
   "id": "0660fa2e-e83f-429d-86a8-3bf878d04a0d",
   "metadata": {},
   "outputs": [],
   "source": [
    "df_topics_outlier5=pd.read_csv('russia_state_ukr_outliers_v6_091322.csv')\n",
    "df_topics_outlier5.dropna(subset=['document'])\n",
    "nan_value = float(\"NaN\")\n",
    "df_topics_outlier5.replace(\"\", nan_value, inplace=True)\n",
    "df_topics_outlier5.dropna(subset = [\"document\"], inplace=True)\n",
    "df_topics_outlier5.replace(\" \", nan_value, inplace=True)\n",
    "df_topics_outlier5.dropna(subset = [\"document\"], inplace=True)\n",
    "df_topics_outlier5.info()\n",
    "df_topics_outlier5.head()"
   ]
  },
  {
   "cell_type": "code",
   "execution_count": null,
   "id": "fb1eff8a-2dea-4388-9f3c-57c31168a5c7",
   "metadata": {},
   "outputs": [],
   "source": [
    "df_topics_outlier5['cleaned_text'] = df_topics_outlier5.document.apply(text_clean)\n",
    "df_topics_outlier5 = df_topics_outlier5.cleaned_text.to_list()\n",
    "len(df_topics_outlier5)"
   ]
  },
  {
   "cell_type": "code",
   "execution_count": null,
   "id": "f53e9ce1-e830-42f2-80e3-9ac948816b6d",
   "metadata": {},
   "outputs": [],
   "source": [
    "start_time = time.time()\n",
    "umap_model = UMAP(n_neighbors=15, n_components=5, \n",
    "                  min_dist=0.0, metric='cosine', random_state=42)\n",
    "topic_model6 = BERTopic(umap_model=umap_model, embedding_model=roberta, nr_topics=\"auto\", calculate_probabilities = True).fit(df_topics_outlier5)\n",
    "topic_model6.save(\"Bert_Model_Outputs/modelrussiaroberta_v6_091322\") \n",
    "print(\"--- %s seconds ---\" % (time.time() - start_time))\n",
    "start_time = time.time()\n",
    "probs6 = hdbscan.all_points_membership_vectors(topic_model6.hdbscan_model)\n",
    "probs6 = topic_model6._map_probabilities(probs5, original_topics=True)\n",
    "topics, probs = topic_model5.fit_transform(df_topics_outlier5)\n",
    "df6 = pd.DataFrame(probs6)\n",
    "df6.to_csv(\"russia_state_ukr_topics_roberta_probs_v6_091322.csv\")"
   ]
  },
  {
   "cell_type": "code",
   "execution_count": null,
   "id": "53b7ad4b-8739-4c03-9a92-802ca8727b95",
   "metadata": {},
   "outputs": [],
   "source": [
    "docs6 = topic_model6.get_representative_docs()\n",
    "freq6 = topic_model6.get_topic_info()\n",
    "doc_panda6 = pd.DataFrame(list(docs6.items()),columns = ['Topic','Docs']) \n",
    "freq6.to_csv(\"russia_state_ukr_topics_roberta_v6_091322.csv\")\n",
    "doc_panda6.to_csv(\"russia_state_ukr_topics_roberta_representative_docs_v6_091322.csv\")"
   ]
  },
  {
   "cell_type": "code",
   "execution_count": null,
   "id": "1f24b5ff-e631-4c3c-9fc8-9fff4065a6c2",
   "metadata": {},
   "outputs": [],
   "source": [
    "freq6"
   ]
  },
  {
   "cell_type": "code",
   "execution_count": null,
   "id": "6e358940-0d00-4062-b543-c4cecf93ba1d",
   "metadata": {},
   "outputs": [],
   "source": [
    "df_topics6 = pd.DataFrame({'topic': topics, 'document': df_topics_outlier5})\n",
    "df_topics6.to_csv(\"russia_state_ukr_doc_topics_v6_091322.csv\")"
   ]
  },
  {
   "cell_type": "code",
   "execution_count": null,
   "id": "d0991bcf-3516-477d-ac61-df75e01cc800",
   "metadata": {},
   "outputs": [],
   "source": [
    "len(df_topics6['topic'].unique().tolist())"
   ]
  },
  {
   "cell_type": "code",
   "execution_count": null,
   "id": "cdffeb14-9ac9-437c-b70a-36c3210bff6b",
   "metadata": {},
   "outputs": [],
   "source": [
    "df_topics6['topiclabel'] = df_topics6['topic'] \n",
    "df_topics6.head()"
   ]
  },
  {
   "cell_type": "code",
   "execution_count": null,
   "id": "1f3db249-a401-41ce-aefe-238065709684",
   "metadata": {},
   "outputs": [],
   "source": [
    "dict6=freq6.set_index('Topic').to_dict()['Name']\n",
    "df_topics6=df_topics6.replace({\"topiclabel\": dict6})\n",
    "df_topics6 = df_topics6[['topic', 'topiclabel', 'document']]\n",
    "df_topics6.head()"
   ]
  },
  {
   "cell_type": "code",
   "execution_count": null,
   "id": "0373f586-7eae-4a69-a498-9bcb4deed39b",
   "metadata": {},
   "outputs": [],
   "source": [
    "df_topics6.to_csv(\"russia_state_ukr_doc_topics_v6_091322.csv\")"
   ]
  },
  {
   "cell_type": "code",
   "execution_count": null,
   "id": "1c3891b0-868d-4ee7-90ea-be108d395945",
   "metadata": {},
   "outputs": [],
   "source": [
    "df_topics_outlier6 = df_topics6[df_topics6.topic == -1]\n",
    "df_topics_outlier6.head()"
   ]
  },
  {
   "cell_type": "code",
   "execution_count": null,
   "id": "521f2a31-ea7a-4779-a963-9620b6103394",
   "metadata": {},
   "outputs": [],
   "source": [
    "df_topics_outlier6.to_csv(\"russia_state_ukr_outliers_v7_091322.csv\")"
   ]
  },
  {
   "cell_type": "code",
   "execution_count": null,
   "id": "3a784776-1171-4458-9fea-7576f3ed0d2c",
   "metadata": {},
   "outputs": [],
   "source": [
    "# clear output"
   ]
  }
 ],
 "metadata": {
  "kernelspec": {
   "display_name": "Python 3 (ipykernel)",
   "language": "python",
   "name": "python3"
  },
  "language_info": {
   "codemirror_mode": {
    "name": "ipython",
    "version": 3
   },
   "file_extension": ".py",
   "mimetype": "text/x-python",
   "name": "python",
   "nbconvert_exporter": "python",
   "pygments_lexer": "ipython3",
   "version": "3.9.12"
  }
 },
 "nbformat": 4,
 "nbformat_minor": 5
}
